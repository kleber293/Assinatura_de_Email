{
  "nbformat": 4,
  "nbformat_minor": 0,
  "metadata": {
    "colab": {
      "name": "Calculo_Numerico.ipynb",
      "provenance": [],
      "collapsed_sections": [],
      "authorship_tag": "ABX9TyMWyndnNFxWETUSs/bC7isz",
      "include_colab_link": true
    },
    "kernelspec": {
      "name": "python3",
      "display_name": "Python 3"
    },
    "language_info": {
      "name": "python"
    }
  },
  "cells": [
    {
      "cell_type": "markdown",
      "metadata": {
        "id": "view-in-github",
        "colab_type": "text"
      },
      "source": [
        "<a href=\"https://colab.research.google.com/github/kleber293/Assinatura_de_Email/blob/main/Calculo_Numerico.ipynb\" target=\"_parent\"><img src=\"https://colab.research.google.com/assets/colab-badge.svg\" alt=\"Open In Colab\"/></a>"
      ]
    },
    {
      "cell_type": "markdown",
      "metadata": {
        "id": "0okkjS6imtMS"
      },
      "source": [
        "<HR width=100% color=\"Turquoise\t\" align=left noshade>"
      ]
    },
    {
      "cell_type": "code",
      "metadata": {
        "id": "DJhQJGUxtjyL",
        "cellView": "form"
      },
      "source": [
        "#@markdown # Binário ⇆ Decimal\n",
        "def Convert_BxD(num, bin=False, dec=False):\n",
        "    \n",
        "    def saida(v1, b1, v2, b2):\n",
        "        print(f'(\\033[1;32m{v1}\\033[){b1}', end='')\n",
        "        print(' \\u27F6 ', end='')\n",
        "        print(f'(\\033[1;32m{v2}\\033[){b2}')\n",
        "\n",
        "    def dec_inteiro(val):\n",
        "        bn, bnr, val = list(), str(), int(val)\n",
        "        bn.append(val % 2)\n",
        "        while True:\n",
        "            d = val // 2\n",
        "            if d == 1 or d == 0:\n",
        "                bn.append(d)\n",
        "                break\n",
        "            bn.append(d % 2)\n",
        "            val = d\n",
        "        for x in reversed(bn):\n",
        "            bnr += str(x)\n",
        "        return bnr\n",
        "\n",
        "    conf = num\n",
        "    \n",
        "    if bin:\n",
        "        con = True\n",
        "        for v in str(num):\n",
        "            con *= v in '10.'\n",
        "        if bool(con):\n",
        "            if isinstance(num, float):\n",
        "                b, sm = str(num).find('.')-1, 0\n",
        "                for i in str(num).replace('.', ''):\n",
        "                    sm += int(i)*2**(b)\n",
        "                    b -= 1\n",
        "                saida(conf, '\\u2082', sm, '\\u2081\\u2080')\n",
        "            else:\n",
        "                c, s = 0, 0\n",
        "                for n in str(num):\n",
        "                    c += 1\n",
        "                    s += int(n)*2**(len(str(num))-c)\n",
        "                saida(conf, '\\u2082', s, '\\u2081\\u2080')\n",
        "        else: \n",
        "            print('\\033[1;31mO valor digitado não é um número Binário!\\033[m')\n",
        "\n",
        "    elif dec:\n",
        "        if isinstance(num, float):\n",
        "            bm, st = list(), str()\n",
        "            cm = 0 if int(num) == 0 else dec_inteiro(num)\n",
        "            while True:\n",
        "                if num > 1:\n",
        "                    num -= int(num)\n",
        "                num *= 2\n",
        "                bm.append(num)\n",
        "                if num % 1 == 0:\n",
        "                    break\n",
        "            for x in bm:\n",
        "                st += f'{str(int(x))}'\n",
        "            saida(conf, '\\u2081\\u2080', f'{cm}.{st}', '\\u2082')\n",
        "        else:\n",
        "            saida(conf,'\\u2081\\u2080', dec_inteiro(num), '\\u2082')"
      ],
      "execution_count": null,
      "outputs": []
    },
    {
      "cell_type": "code",
      "metadata": {
        "colab": {
          "base_uri": "https://localhost:8080/"
        },
        "id": "CKA5oT9it4a9",
        "cellView": "form",
        "outputId": "83f20df3-02b1-44a9-858e-ed65a517a1b2"
      },
      "source": [
        "#@markdown ### Convertendo um número **Binário** em **Decimal**\n",
        "Numero_Binario =  10111#@param\n",
        "Convert_BxD(Numero_Binario, bin=True)"
      ],
      "execution_count": null,
      "outputs": [
        {
          "output_type": "stream",
          "name": "stdout",
          "text": [
            "(\u001b[1;32m10111\u001b[)₂ ⟶ (\u001b[1;32m23\u001b[)₁₀\n"
          ]
        }
      ]
    },
    {
      "cell_type": "code",
      "metadata": {
        "colab": {
          "base_uri": "https://localhost:8080/"
        },
        "cellView": "form",
        "id": "yN69942r1Zds",
        "outputId": "03051bb6-e275-46d2-da95-269d2f79d58a"
      },
      "source": [
        "#@markdown ### Convertendo um número **Decimal** em **Binário**\n",
        "Numero_Decimal =  13.25#@param\n",
        "Convert_BxD(Numero_Decimal, dec=True)"
      ],
      "execution_count": null,
      "outputs": [
        {
          "output_type": "stream",
          "name": "stdout",
          "text": [
            "(\u001b[1;32m13.25\u001b[)₁₀ ⟶ (\u001b[1;32m1101.01\u001b[)₂\n"
          ]
        }
      ]
    },
    {
      "cell_type": "markdown",
      "metadata": {
        "id": "u2ACRTABnNin"
      },
      "source": [
        "<HR width=100% color=\"Turquoise\t\" align=left noshade>"
      ]
    },
    {
      "cell_type": "markdown",
      "metadata": {
        "id": "Q4tLTbZbZIxx"
      },
      "source": [
        "# Método de eliminação de Gauss ou Eliminação Gaussiana\n",
        "\n",
        "> $\\color{gray}{\\text{Gauss triângulação }}$\n",
        "\n",
        "Base: [Aqui](https://www.ufrgs.br/reamat/CalculoNumerico/livro-sci/sdsl-eliminacao_gaussiana.html):"
      ]
    },
    {
      "cell_type": "markdown",
      "metadata": {
        "id": "UyzWy5bMafL4"
      },
      "source": [
        "Exercício de texte:\n",
        "\n",
        "\\begin{bmatrix}\n",
        "1&1&1&1\\\\\n",
        "4&4&2&2\\\\\n",
        "2&1&-1&0\n",
        "\\end{bmatrix}"
      ]
    },
    {
      "cell_type": "code",
      "metadata": {
        "colab": {
          "base_uri": "https://localhost:8080/"
        },
        "id": "Io_77-Gy1enh",
        "outputId": "e82b4887-baeb-4a6b-fe54-3bc26db0a7d0"
      },
      "source": [
        "m, cn, cnf, cn1 = [[1, 1, 1, 1], [0, 4, 2, 2], [0, 1, -1, 0]], 0, True, 0\n",
        "\n"
      ],
      "execution_count": 7,
      "outputs": [
        {
          "output_type": "stream",
          "name": "stdout",
          "text": [
            "1 in m[3][4]\n",
            "\n"
          ]
        }
      ]
    },
    {
      "cell_type": "markdown",
      "metadata": {
        "id": "m1u7WhDBSxFg"
      },
      "source": [
        "<HR width=100% color=\"Turquoise\t\" align=left noshade>"
      ]
    },
    {
      "cell_type": "markdown",
      "metadata": {
        "id": "iNEaDHCmSh2P"
      },
      "source": [
        "# Método de eliminação de Gauss jordan\n",
        "\n",
        "> $\\color{gray}{\\text{método do pivotamento parcial}}$\n",
        "\n",
        "Base: [Aqui](https://www.ufrgs.br/reamat/CalculoNumerico/livro-sci/sdsl-eliminacao_gaussiana.html):"
      ]
    },
    {
      "cell_type": "markdown",
      "metadata": {
        "id": "HbrRZFO6TllS"
      },
      "source": [
        "Exercício de texte:\n",
        "\n",
        "\\begin{bmatrix}\n",
        "1&1&1&1\\\\\n",
        "4&4&2&2\\\\\n",
        "2&1&-1&0\n",
        "\\end{bmatrix}"
      ]
    },
    {
      "cell_type": "code",
      "metadata": {
        "colab": {
          "base_uri": "https://localhost:8080/"
        },
        "id": "KgJgLGT6SfR6",
        "outputId": "c3eba3e0-6420-4d97-c7ec-c13328eea037"
      },
      "source": [
        "import numpy as np\n",
        "\n",
        "m = np.array([\n",
        "              [1, 1, 1, 1, 1],\n",
        "              [4, 4, 2, 2, 5],\n",
        "              [2, 1, -1, 0, 3],\n",
        "              [3, 2, 5, 4, 6]\n",
        "])\n",
        "\n",
        "def permutation(arr, shift, end):\n",
        "    arr = np.insert(arr, end, arr[shift], axis=0)\n",
        "    finale = shift + 1 if shift > end else shift \n",
        "    arr = np.delete(arr, finale, axis=0)\n",
        "    return arr \n",
        "\n",
        "c = 0\n",
        "while c < len(m):\n",
        "    c += 1\n",
        "    m = permutation(m, np.where(m[:, 0] == max(m[:, 0], key=abs))[0][0], 0)\n",
        "\n",
        "print(m)"
      ],
      "execution_count": 408,
      "outputs": [
        {
          "output_type": "stream",
          "name": "stdout",
          "text": [
            "[[ 4  4  2  2  5]\n",
            " [ 1  1  1  1  1]\n",
            " [ 2  1 -1  0  3]\n",
            " [ 3  2  5  4  6]]\n"
          ]
        }
      ]
    },
    {
      "cell_type": "code",
      "metadata": {
        "colab": {
          "base_uri": "https://localhost:8080/",
          "height": 341
        },
        "id": "iYbt-k410dsM",
        "outputId": "820f7e48-5cad-4ace-e204-854a27ad3153"
      },
      "source": [
        "np.transpose(m, )"
      ],
      "execution_count": 308,
      "outputs": [
        {
          "output_type": "error",
          "ename": "AxisError",
          "evalue": "ignored",
          "traceback": [
            "\u001b[0;31m---------------------------------------------------------------------------\u001b[0m",
            "\u001b[0;31mAxisError\u001b[0m                                 Traceback (most recent call last)",
            "\u001b[0;32m<ipython-input-308-c11ae9c55cb8>\u001b[0m in \u001b[0;36m<module>\u001b[0;34m()\u001b[0m\n\u001b[0;32m----> 1\u001b[0;31m \u001b[0mnp\u001b[0m\u001b[0;34m.\u001b[0m\u001b[0mswapaxes\u001b[0m\u001b[0;34m(\u001b[0m\u001b[0mm\u001b[0m\u001b[0;34m,\u001b[0m \u001b[0;36m2\u001b[0m\u001b[0;34m,\u001b[0m \u001b[0;36m1\u001b[0m\u001b[0;34m)\u001b[0m\u001b[0;34m\u001b[0m\u001b[0;34m\u001b[0m\u001b[0m\n\u001b[0m",
            "\u001b[0;32m<__array_function__ internals>\u001b[0m in \u001b[0;36mswapaxes\u001b[0;34m(*args, **kwargs)\u001b[0m\n",
            "\u001b[0;32m/usr/local/lib/python3.7/dist-packages/numpy/core/fromnumeric.py\u001b[0m in \u001b[0;36mswapaxes\u001b[0;34m(a, axis1, axis2)\u001b[0m\n\u001b[1;32m    592\u001b[0m \u001b[0;34m\u001b[0m\u001b[0m\n\u001b[1;32m    593\u001b[0m     \"\"\"\n\u001b[0;32m--> 594\u001b[0;31m     \u001b[0;32mreturn\u001b[0m \u001b[0m_wrapfunc\u001b[0m\u001b[0;34m(\u001b[0m\u001b[0ma\u001b[0m\u001b[0;34m,\u001b[0m \u001b[0;34m'swapaxes'\u001b[0m\u001b[0;34m,\u001b[0m \u001b[0maxis1\u001b[0m\u001b[0;34m,\u001b[0m \u001b[0maxis2\u001b[0m\u001b[0;34m)\u001b[0m\u001b[0;34m\u001b[0m\u001b[0;34m\u001b[0m\u001b[0m\n\u001b[0m\u001b[1;32m    595\u001b[0m \u001b[0;34m\u001b[0m\u001b[0m\n\u001b[1;32m    596\u001b[0m \u001b[0;34m\u001b[0m\u001b[0m\n",
            "\u001b[0;32m/usr/local/lib/python3.7/dist-packages/numpy/core/fromnumeric.py\u001b[0m in \u001b[0;36m_wrapfunc\u001b[0;34m(obj, method, *args, **kwds)\u001b[0m\n\u001b[1;32m     56\u001b[0m \u001b[0;34m\u001b[0m\u001b[0m\n\u001b[1;32m     57\u001b[0m     \u001b[0;32mtry\u001b[0m\u001b[0;34m:\u001b[0m\u001b[0;34m\u001b[0m\u001b[0;34m\u001b[0m\u001b[0m\n\u001b[0;32m---> 58\u001b[0;31m         \u001b[0;32mreturn\u001b[0m \u001b[0mbound\u001b[0m\u001b[0;34m(\u001b[0m\u001b[0;34m*\u001b[0m\u001b[0margs\u001b[0m\u001b[0;34m,\u001b[0m \u001b[0;34m**\u001b[0m\u001b[0mkwds\u001b[0m\u001b[0;34m)\u001b[0m\u001b[0;34m\u001b[0m\u001b[0;34m\u001b[0m\u001b[0m\n\u001b[0m\u001b[1;32m     59\u001b[0m     \u001b[0;32mexcept\u001b[0m \u001b[0mTypeError\u001b[0m\u001b[0;34m:\u001b[0m\u001b[0;34m\u001b[0m\u001b[0;34m\u001b[0m\u001b[0m\n\u001b[1;32m     60\u001b[0m         \u001b[0;31m# A TypeError occurs if the object does have such a method in its\u001b[0m\u001b[0;34m\u001b[0m\u001b[0;34m\u001b[0m\u001b[0;34m\u001b[0m\u001b[0m\n",
            "\u001b[0;31mAxisError\u001b[0m: axis1: axis 2 is out of bounds for array of dimension 2"
          ]
        }
      ]
    },
    {
      "cell_type": "code",
      "metadata": {
        "colab": {
          "base_uri": "https://localhost:8080/"
        },
        "id": "Z1xQxT0ao1cC",
        "outputId": "70f6e270-f573-42cd-e184-e5c9b614223a"
      },
      "source": [
        "a = np.array([\n",
        "              [1, 2, 3],\n",
        "              [4, 5, 6],\n",
        "              [7, 8, 9]\n",
        "])\n",
        "\n",
        "np.roll(a, -2, axis=0)"
      ],
      "execution_count": 271,
      "outputs": [
        {
          "output_type": "execute_result",
          "data": {
            "text/plain": [
              "array([[7, 8, 9],\n",
              "       [1, 2, 3],\n",
              "       [4, 5, 6]])"
            ]
          },
          "metadata": {},
          "execution_count": 271
        }
      ]
    },
    {
      "cell_type": "code",
      "metadata": {
        "colab": {
          "base_uri": "https://localhost:8080/"
        },
        "id": "4g4TcLKIBdWg",
        "outputId": "559fec63-3720-4aff-9e0f-0b926dc5ab04"
      },
      "source": [
        "a = np.array([[4, 0, 0],\n",
        "              [1, 2, 3],\n",
        "              [0, 0, 5]])\n",
        "\n",
        "'''\n",
        "a = np.insert(a, 1, a[2], axis=0)\n",
        "print(a, '\\n')\n",
        "a = np.delete(a, 2+1, axis=0)\n",
        "print(a)\n",
        "'''\n",
        "print()"
      ],
      "execution_count": 371,
      "outputs": [
        {
          "output_type": "stream",
          "name": "stdout",
          "text": [
            "\n"
          ]
        }
      ]
    },
    {
      "cell_type": "code",
      "metadata": {
        "id": "c8D9U1Q9n7DT"
      },
      "source": [
        "def permutation(arr, shift, end):\n",
        "    arr = np.insert(arr, end, arr[shift], axis=0)\n",
        "    finale = shift + 1 if shift > end else shift \n",
        "    print(finale)\n",
        "    arr = np.delete(arr, finale, axis=0)\n",
        "    return arr "
      ],
      "execution_count": 394,
      "outputs": []
    },
    {
      "cell_type": "code",
      "metadata": {
        "colab": {
          "base_uri": "https://localhost:8080/"
        },
        "id": "In068et2rI7e",
        "outputId": "2ea161b8-f8fa-48e2-fa03-2e95933612cb"
      },
      "source": [
        "permutation(a, 0, 2)"
      ],
      "execution_count": 397,
      "outputs": [
        {
          "output_type": "stream",
          "name": "stdout",
          "text": [
            "0\n"
          ]
        },
        {
          "output_type": "execute_result",
          "data": {
            "text/plain": [
              "array([[1, 2, 3],\n",
              "       [4, 0, 0],\n",
              "       [0, 0, 5]])"
            ]
          },
          "metadata": {},
          "execution_count": 397
        }
      ]
    }
  ]
}